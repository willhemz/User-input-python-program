{
 "cells": [
  {
   "cell_type": "markdown",
   "id": "45d3ecbb",
   "metadata": {},
   "source": [
    "# Mutable vs Immutable"
   ]
  },
  {
   "cell_type": "markdown",
   "id": "12105c14",
   "metadata": {},
   "source": [
    "> Some things can be changed, some things cannot be changed. There's a reason we'd want to set a variable and never have it changed: performance, or data integrity."
   ]
  },
  {
   "cell_type": "code",
   "execution_count": 3,
   "id": "45a24cc5",
   "metadata": {},
   "outputs": [],
   "source": [
    "# Example of mutable\n",
    "\n",
    "food = ['egg', 'cheese', 'bread']"
   ]
  },
  {
   "cell_type": "code",
   "execution_count": 4,
   "id": "3e82622f",
   "metadata": {},
   "outputs": [
    {
     "data": {
      "text/plain": [
       "['egg', 'cheese', 'bread']"
      ]
     },
     "execution_count": 4,
     "metadata": {},
     "output_type": "execute_result"
    }
   ],
   "source": [
    "food"
   ]
  },
  {
   "cell_type": "code",
   "execution_count": 5,
   "id": "a9ee2df6",
   "metadata": {},
   "outputs": [],
   "source": [
    "food.append('chocolate')"
   ]
  },
  {
   "cell_type": "code",
   "execution_count": 6,
   "id": "b4031044",
   "metadata": {},
   "outputs": [
    {
     "data": {
      "text/plain": [
       "['egg', 'cheese', 'bread', 'chocolate']"
      ]
     },
     "execution_count": 6,
     "metadata": {},
     "output_type": "execute_result"
    }
   ],
   "source": [
    "food"
   ]
  },
  {
   "cell_type": "code",
   "execution_count": 7,
   "id": "550f4d34",
   "metadata": {},
   "outputs": [],
   "source": [
    "#example of Immutable\n",
    "\n",
    "grammerList = ('Verbose', 'Chauvinist')"
   ]
  },
  {
   "cell_type": "code",
   "execution_count": 8,
   "id": "f8623b12",
   "metadata": {},
   "outputs": [
    {
     "ename": "AttributeError",
     "evalue": "'tuple' object has no attribute 'append'",
     "output_type": "error",
     "traceback": [
      "\u001b[1;31m---------------------------------------------------------------------------\u001b[0m",
      "\u001b[1;31mAttributeError\u001b[0m                            Traceback (most recent call last)",
      "Input \u001b[1;32mIn [8]\u001b[0m, in \u001b[0;36m<cell line: 1>\u001b[1;34m()\u001b[0m\n\u001b[1;32m----> 1\u001b[0m \u001b[43mgrammerList\u001b[49m\u001b[38;5;241;43m.\u001b[39;49m\u001b[43mappend\u001b[49m(\u001b[38;5;241m2\u001b[39m)\n",
      "\u001b[1;31mAttributeError\u001b[0m: 'tuple' object has no attribute 'append'"
     ]
    }
   ],
   "source": [
    "grammerList.append(2)"
   ]
  },
  {
   "cell_type": "code",
   "execution_count": null,
   "id": "16edbed0",
   "metadata": {},
   "outputs": [],
   "source": [
    "# It can be noted that no changes can be made to grammerlist cause it is a tuple and a tuple is immutable"
   ]
  }
 ],
 "metadata": {
  "kernelspec": {
   "display_name": "Python 3 (ipykernel)",
   "language": "python",
   "name": "python3"
  },
  "language_info": {
   "codemirror_mode": {
    "name": "ipython",
    "version": 3
   },
   "file_extension": ".py",
   "mimetype": "text/x-python",
   "name": "python",
   "nbconvert_exporter": "python",
   "pygments_lexer": "ipython3",
   "version": "3.9.12"
  }
 },
 "nbformat": 4,
 "nbformat_minor": 5
}
