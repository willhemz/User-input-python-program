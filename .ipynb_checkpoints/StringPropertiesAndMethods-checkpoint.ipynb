{
 "cells": [
  {
   "cell_type": "markdown",
   "id": "7fb0d888",
   "metadata": {},
   "source": [
    "# String Props & Methods"
   ]
  },
  {
   "cell_type": "markdown",
   "id": "bf5327f7",
   "metadata": {},
   "source": [
    "### Functions vs Methods"
   ]
  },
  {
   "cell_type": "code",
   "execution_count": 1,
   "id": "c96e9e51",
   "metadata": {},
   "outputs": [],
   "source": [
    "name = 'Kalob'"
   ]
  },
  {
   "cell_type": "code",
   "execution_count": 2,
   "id": "ededa567",
   "metadata": {},
   "outputs": [
    {
     "data": {
      "text/plain": [
       "str"
      ]
     },
     "execution_count": 2,
     "metadata": {},
     "output_type": "execute_result"
    }
   ],
   "source": [
    "type(name)"
   ]
  },
  {
   "cell_type": "code",
   "execution_count": 3,
   "id": "2c64cad0",
   "metadata": {},
   "outputs": [
    {
     "data": {
      "text/plain": [
       "'KALOB'"
      ]
     },
     "execution_count": 3,
     "metadata": {},
     "output_type": "execute_result"
    }
   ],
   "source": [
    "name.upper()"
   ]
  },
  {
   "cell_type": "code",
   "execution_count": 4,
   "id": "282bfc67",
   "metadata": {},
   "outputs": [],
   "source": [
    "# in the example above, the name is a class function, upper is a method"
   ]
  },
  {
   "cell_type": "code",
   "execution_count": 5,
   "id": "9e9a9a70",
   "metadata": {},
   "outputs": [],
   "source": [
    "# let's look at property"
   ]
  },
  {
   "cell_type": "markdown",
   "id": "24ed1373",
   "metadata": {},
   "source": [
    "#### PROPERTY"
   ]
  },
  {
   "cell_type": "code",
   "execution_count": 7,
   "id": "3f4c7485",
   "metadata": {},
   "outputs": [
    {
     "data": {
      "text/plain": [
       "20"
      ]
     },
     "execution_count": 7,
     "metadata": {},
     "output_type": "execute_result"
    }
   ],
   "source": [
    "course = 'Python for beginners'\n",
    "len(course)"
   ]
  },
  {
   "cell_type": "code",
   "execution_count": null,
   "id": "4f265787",
   "metadata": {},
   "outputs": [],
   "source": [
    "# len and type here are functions too. Because they take in parameters and args."
   ]
  }
 ],
 "metadata": {
  "kernelspec": {
   "display_name": "Python 3 (ipykernel)",
   "language": "python",
   "name": "python3"
  },
  "language_info": {
   "codemirror_mode": {
    "name": "ipython",
    "version": 3
   },
   "file_extension": ".py",
   "mimetype": "text/x-python",
   "name": "python",
   "nbconvert_exporter": "python",
   "pygments_lexer": "ipython3",
   "version": "3.9.12"
  }
 },
 "nbformat": 4,
 "nbformat_minor": 5
}
