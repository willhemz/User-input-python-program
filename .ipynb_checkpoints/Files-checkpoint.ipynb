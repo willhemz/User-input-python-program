{
 "cells": [
  {
   "cell_type": "markdown",
   "id": "16b40ac4",
   "metadata": {},
   "source": [
    "### Files"
   ]
  },
  {
   "cell_type": "code",
   "execution_count": 1,
   "id": "08f72644",
   "metadata": {},
   "outputs": [],
   "source": [
    "with open('someFile.txt', 'w') as f:\n",
    "    f.write('Hello World! This is our first programmatically created file')\n",
    "    f.close()"
   ]
  },
  {
   "cell_type": "code",
   "execution_count": 6,
   "id": "d5383679",
   "metadata": {},
   "outputs": [
    {
     "name": "stdout",
     "output_type": "stream",
     "text": [
      "<class '_io.TextIOWrapper'>\n"
     ]
    }
   ],
   "source": [
    "with open('someFile.txt', 'r') as f:\n",
    "    print(type(f))\n",
    "    content = f.read()\n",
    "    f.close()"
   ]
  },
  {
   "cell_type": "code",
   "execution_count": 7,
   "id": "07e23071",
   "metadata": {},
   "outputs": [
    {
     "data": {
      "text/plain": [
       "'Hello World! This is our first programmatically created file\\nEdited version from Notebook'"
      ]
     },
     "execution_count": 7,
     "metadata": {},
     "output_type": "execute_result"
    }
   ],
   "source": [
    "content"
   ]
  },
  {
   "cell_type": "code",
   "execution_count": 9,
   "id": "600b8bf2",
   "metadata": {},
   "outputs": [],
   "source": [
    "with open('someFile.txt', 'w') as f:\n",
    "    f.write('New file created')\n",
    "    f.close()"
   ]
  },
  {
   "cell_type": "code",
   "execution_count": 12,
   "id": "e40aa83c",
   "metadata": {},
   "outputs": [],
   "source": [
    "with open('someFile.txt', 'a') as f:\n",
    "    f.write('\\nThis is line 4 from David')\n",
    "    f.close()"
   ]
  },
  {
   "cell_type": "code",
   "execution_count": null,
   "id": "abffa26c",
   "metadata": {},
   "outputs": [],
   "source": [
    "# We can keep changing d data from the code in ln10 and it will keep appending."
   ]
  },
  {
   "cell_type": "code",
   "execution_count": 13,
   "id": "53b9cc3f",
   "metadata": {},
   "outputs": [
    {
     "name": "stdout",
     "output_type": "stream",
     "text": [
      "f.name -> someFile.txt\n"
     ]
    }
   ],
   "source": [
    "with open('someFile.txt', 'r') as f:\n",
    "    print('f.name ->', f.name)\n",
    "    lines = f.readlines()\n",
    "    f.close()"
   ]
  },
  {
   "cell_type": "code",
   "execution_count": 14,
   "id": "bc1b2c00",
   "metadata": {},
   "outputs": [
    {
     "data": {
      "text/plain": [
       "['New file created\\n',\n",
       " 'This is line 2\\n',\n",
       " 'This is line 3\\n',\n",
       " 'This is line 4 from David']"
      ]
     },
     "execution_count": 14,
     "metadata": {},
     "output_type": "execute_result"
    }
   ],
   "source": [
    "lines"
   ]
  },
  {
   "cell_type": "code",
   "execution_count": 15,
   "id": "d31bf063",
   "metadata": {},
   "outputs": [
    {
     "data": {
      "text/plain": [
       "list"
      ]
     },
     "execution_count": 15,
     "metadata": {},
     "output_type": "execute_result"
    }
   ],
   "source": [
    "type(lines)"
   ]
  },
  {
   "cell_type": "code",
   "execution_count": 16,
   "id": "729fe29a",
   "metadata": {},
   "outputs": [
    {
     "name": "stdout",
     "output_type": "stream",
     "text": [
      "New file created\n",
      "\n",
      "This is line 2\n",
      "\n",
      "This is line 3\n",
      "\n",
      "This is line 4 from David\n"
     ]
    }
   ],
   "source": [
    "for line in lines:\n",
    "    print(line)"
   ]
  },
  {
   "cell_type": "code",
   "execution_count": null,
   "id": "d5055645",
   "metadata": {},
   "outputs": [],
   "source": []
  }
 ],
 "metadata": {
  "kernelspec": {
   "display_name": "Python 3 (ipykernel)",
   "language": "python",
   "name": "python3"
  },
  "language_info": {
   "codemirror_mode": {
    "name": "ipython",
    "version": 3
   },
   "file_extension": ".py",
   "mimetype": "text/x-python",
   "name": "python",
   "nbconvert_exporter": "python",
   "pygments_lexer": "ipython3",
   "version": "3.9.12"
  }
 },
 "nbformat": 4,
 "nbformat_minor": 5
}
