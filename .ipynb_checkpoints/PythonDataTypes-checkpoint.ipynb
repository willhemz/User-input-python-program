{
 "cells": [
  {
   "cell_type": "markdown",
   "id": "6b08fbe8",
   "metadata": {},
   "source": [
    "# Python Data Types"
   ]
  },
  {
   "cell_type": "markdown",
   "id": "0968f3bb",
   "metadata": {},
   "source": [
    "## Numerics"
   ]
  },
  {
   "cell_type": "code",
   "execution_count": null,
   "id": "e6d23f69",
   "metadata": {},
   "outputs": [],
   "source": [
    "# int float complex numbers\n",
    "# int = 1,2,3,4,5\n",
    "# float = 1.0, 3.14, 100.5"
   ]
  },
  {
   "cell_type": "markdown",
   "id": "23ead387",
   "metadata": {},
   "source": [
    "## Booleans"
   ]
  },
  {
   "cell_type": "code",
   "execution_count": null,
   "id": "d03e7612",
   "metadata": {},
   "outputs": [],
   "source": [
    "True\n",
    "False"
   ]
  },
  {
   "cell_type": "markdown",
   "id": "635faccf",
   "metadata": {},
   "source": [
    "## Sequences"
   ]
  },
  {
   "cell_type": "code",
   "execution_count": null,
   "id": "f38e58c7",
   "metadata": {},
   "outputs": [],
   "source": [
    "# sequence is more like a list\n",
    "list = ['Milk', 'Cheese', 'Burger']\n",
    "tuple = ('Milk', 'Cheese', 'Burger')\n",
    "set = {'Milk', 'Cheese', 'Burger'}\n",
    "string = 'python for everybody'\n",
    "# A list can contain new items by addition. An item can be repeated any number of times in the list\n",
    "# A tupple cannot contain new items by addition\n",
    "# A set can contain new items by addition but each item is unique and cannot be repeated."
   ]
  },
  {
   "cell_type": "markdown",
   "id": "0174e7eb",
   "metadata": {},
   "source": [
    "## Dictionaries "
   ]
  },
  {
   "cell_type": "code",
   "execution_count": 2,
   "id": "07b08b7a",
   "metadata": {},
   "outputs": [],
   "source": [
    "# Dictionary is an object for storing key value pairs e.g\n",
    "\n",
    "dict = {\n",
    "    'key': 'value',\n",
    "    'Milk': 'Goats Milk',\n",
    "    'Bread': 'Captain Cook'\n",
    "}"
   ]
  },
  {
   "cell_type": "code",
   "execution_count": null,
   "id": "05df1cab",
   "metadata": {},
   "outputs": [],
   "source": [
    "person = {\n",
    "    'name': 'Kalob',\n",
    "    'cats': 2,\n",
    "    'family_members': ('Father', 'Mother', 'Brother', 'Sister')\n",
    "}"
   ]
  }
 ],
 "metadata": {
  "kernelspec": {
   "display_name": "Python 3 (ipykernel)",
   "language": "python",
   "name": "python3"
  },
  "language_info": {
   "codemirror_mode": {
    "name": "ipython",
    "version": 3
   },
   "file_extension": ".py",
   "mimetype": "text/x-python",
   "name": "python",
   "nbconvert_exporter": "python",
   "pygments_lexer": "ipython3",
   "version": "3.9.12"
  }
 },
 "nbformat": 4,
 "nbformat_minor": 5
}
