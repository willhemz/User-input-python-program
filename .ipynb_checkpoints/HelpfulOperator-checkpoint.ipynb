{
 "cells": [
  {
   "cell_type": "markdown",
   "id": "7c838c5e",
   "metadata": {},
   "source": [
    "## Helpful Operators"
   ]
  },
  {
   "cell_type": "code",
   "execution_count": 1,
   "id": "c3fbe292",
   "metadata": {},
   "outputs": [],
   "source": [
    "# the in operator"
   ]
  },
  {
   "cell_type": "code",
   "execution_count": 2,
   "id": "832ca723",
   "metadata": {},
   "outputs": [
    {
     "data": {
      "text/plain": [
       "True"
      ]
     },
     "execution_count": 2,
     "metadata": {},
     "output_type": "execute_result"
    }
   ],
   "source": [
    "'Python' in 'Python for Everybody'"
   ]
  },
  {
   "cell_type": "code",
   "execution_count": 3,
   "id": "7c4262c7",
   "metadata": {},
   "outputs": [
    {
     "name": "stdout",
     "output_type": "stream",
     "text": [
      "Henry is in this list\n"
     ]
    }
   ],
   "source": [
    "if 'Henry' in ['Henry', 'Zephyr', 'Daniel']:\n",
    "    print('Henry is in this list')"
   ]
  },
  {
   "cell_type": "code",
   "execution_count": 4,
   "id": "eeb90704",
   "metadata": {},
   "outputs": [],
   "source": [
    "languages = ['Python', 'JavaScript', 'C++', 'Swift']"
   ]
  },
  {
   "cell_type": "code",
   "execution_count": 5,
   "id": "36e1884e",
   "metadata": {},
   "outputs": [
    {
     "data": {
      "text/plain": [
       "['Python', 'JavaScript', 'C++', 'Swift']"
      ]
     },
     "execution_count": 5,
     "metadata": {},
     "output_type": "execute_result"
    }
   ],
   "source": [
    "languages"
   ]
  },
  {
   "cell_type": "code",
   "execution_count": 6,
   "id": "c95d90a8",
   "metadata": {},
   "outputs": [
    {
     "name": "stdout",
     "output_type": "stream",
     "text": [
      "0 Python\n",
      "1 JavaScript\n",
      "2 C++\n",
      "3 Swift\n"
     ]
    }
   ],
   "source": [
    "num = 0\n",
    "for lang in languages:\n",
    "    print(num, lang)\n",
    "    num += 1"
   ]
  },
  {
   "cell_type": "code",
   "execution_count": 7,
   "id": "73087998",
   "metadata": {},
   "outputs": [],
   "source": [
    "# Another way to iterate the index of the values in a list is to use the enumerate function"
   ]
  },
  {
   "cell_type": "code",
   "execution_count": 8,
   "id": "6eea591e",
   "metadata": {},
   "outputs": [
    {
     "name": "stdout",
     "output_type": "stream",
     "text": [
      "0 Python\n",
      "1 JavaScript\n",
      "2 C++\n",
      "3 Swift\n"
     ]
    }
   ],
   "source": [
    "for index, lang in enumerate(languages):\n",
    "    print(index, lang)"
   ]
  },
  {
   "cell_type": "code",
   "execution_count": 9,
   "id": "aab2e214",
   "metadata": {},
   "outputs": [
    {
     "name": "stdout",
     "output_type": "stream",
     "text": [
      "1 Python\n",
      "2 JavaScript\n",
      "3 C++\n",
      "4 Swift\n"
     ]
    }
   ],
   "source": [
    "for index, lang in enumerate(languages):\n",
    "    print(index + 1, lang)"
   ]
  },
  {
   "cell_type": "code",
   "execution_count": 10,
   "id": "7d310f0f",
   "metadata": {},
   "outputs": [],
   "source": [
    "# Another keyword is the zip function\n",
    "# This allows us to merge two lists into a paired tuple"
   ]
  },
  {
   "cell_type": "code",
   "execution_count": 11,
   "id": "21173574",
   "metadata": {},
   "outputs": [],
   "source": [
    "list1 = ['a', 'b', 'c']\n",
    "list2 = [1, 2, 3]"
   ]
  },
  {
   "cell_type": "code",
   "execution_count": 12,
   "id": "500c6830",
   "metadata": {},
   "outputs": [
    {
     "name": "stdout",
     "output_type": "stream",
     "text": [
      "('a', 1)\n",
      "('b', 2)\n",
      "('c', 3)\n"
     ]
    }
   ],
   "source": [
    "for item in zip(list1, list2):\n",
    "    print(item)"
   ]
  },
  {
   "cell_type": "code",
   "execution_count": 14,
   "id": "ea8ca03f",
   "metadata": {},
   "outputs": [
    {
     "name": "stdout",
     "output_type": "stream",
     "text": [
      "a \t=>\t 1\n",
      "b \t=>\t 2\n",
      "c \t=>\t 3\n"
     ]
    }
   ],
   "source": [
    "for letter, number in zip(list1, list2):\n",
    "    print(letter, '\\t=>\\t', number)"
   ]
  },
  {
   "cell_type": "code",
   "execution_count": 15,
   "id": "eececaf0",
   "metadata": {},
   "outputs": [],
   "source": [
    "# We can obtain the minimum and maximum values in a list using the min and max keyword"
   ]
  },
  {
   "cell_type": "code",
   "execution_count": 16,
   "id": "0337cf7c",
   "metadata": {},
   "outputs": [
    {
     "data": {
      "text/plain": [
       "[1, 2, 3]"
      ]
     },
     "execution_count": 16,
     "metadata": {},
     "output_type": "execute_result"
    }
   ],
   "source": [
    "list1\n",
    "list2"
   ]
  },
  {
   "cell_type": "code",
   "execution_count": 17,
   "id": "f4018fa0",
   "metadata": {},
   "outputs": [
    {
     "data": {
      "text/plain": [
       "'a'"
      ]
     },
     "execution_count": 17,
     "metadata": {},
     "output_type": "execute_result"
    }
   ],
   "source": [
    "min(list1)"
   ]
  },
  {
   "cell_type": "code",
   "execution_count": 18,
   "id": "1159e2c1",
   "metadata": {},
   "outputs": [
    {
     "data": {
      "text/plain": [
       "'c'"
      ]
     },
     "execution_count": 18,
     "metadata": {},
     "output_type": "execute_result"
    }
   ],
   "source": [
    "max(list1)"
   ]
  },
  {
   "cell_type": "code",
   "execution_count": 19,
   "id": "5bdbb51c",
   "metadata": {},
   "outputs": [
    {
     "data": {
      "text/plain": [
       "1"
      ]
     },
     "execution_count": 19,
     "metadata": {},
     "output_type": "execute_result"
    }
   ],
   "source": [
    "min(list2)"
   ]
  },
  {
   "cell_type": "code",
   "execution_count": 20,
   "id": "54da1a6b",
   "metadata": {},
   "outputs": [
    {
     "data": {
      "text/plain": [
       "3"
      ]
     },
     "execution_count": 20,
     "metadata": {},
     "output_type": "execute_result"
    }
   ],
   "source": [
    "max(list2)"
   ]
  },
  {
   "cell_type": "code",
   "execution_count": 21,
   "id": "9ec1b46a",
   "metadata": {},
   "outputs": [],
   "source": [
    "# if we an array of strings, we can join them into a string using the join function"
   ]
  },
  {
   "cell_type": "code",
   "execution_count": 22,
   "id": "1ccfaf29",
   "metadata": {},
   "outputs": [
    {
     "data": {
      "text/plain": [
       "'abc'"
      ]
     },
     "execution_count": 22,
     "metadata": {},
     "output_type": "execute_result"
    }
   ],
   "source": [
    "''.join(list1)"
   ]
  },
  {
   "cell_type": "code",
   "execution_count": 23,
   "id": "42f6673a",
   "metadata": {},
   "outputs": [
    {
     "data": {
      "text/plain": [
       "'a=>b=>c'"
      ]
     },
     "execution_count": 23,
     "metadata": {},
     "output_type": "execute_result"
    }
   ],
   "source": [
    "'=>'.join(list1)"
   ]
  },
  {
   "cell_type": "code",
   "execution_count": 24,
   "id": "0e500719",
   "metadata": {},
   "outputs": [],
   "source": [
    "# we can also split a string into an array using the split function"
   ]
  },
  {
   "cell_type": "code",
   "execution_count": 25,
   "id": "ee48460e",
   "metadata": {},
   "outputs": [],
   "source": [
    "course = 'Python for Everybody'"
   ]
  },
  {
   "cell_type": "code",
   "execution_count": 28,
   "id": "9c01accf",
   "metadata": {},
   "outputs": [],
   "source": [
    "words = course.split(' ')"
   ]
  },
  {
   "cell_type": "code",
   "execution_count": 29,
   "id": "289cf575",
   "metadata": {},
   "outputs": [
    {
     "data": {
      "text/plain": [
       "['Python', 'for', 'Everybody']"
      ]
     },
     "execution_count": 29,
     "metadata": {},
     "output_type": "execute_result"
    }
   ],
   "source": [
    "words"
   ]
  },
  {
   "cell_type": "code",
   "execution_count": 30,
   "id": "48e63d64",
   "metadata": {},
   "outputs": [],
   "source": [
    "# We can use the sort function to rearrange a list to alphabetical and case sensitive"
   ]
  },
  {
   "cell_type": "code",
   "execution_count": 31,
   "id": "edc6880f",
   "metadata": {},
   "outputs": [],
   "source": [
    "words.sort()"
   ]
  },
  {
   "cell_type": "code",
   "execution_count": 32,
   "id": "a4187a36",
   "metadata": {},
   "outputs": [
    {
     "data": {
      "text/plain": [
       "['Everybody', 'Python', 'for']"
      ]
     },
     "execution_count": 32,
     "metadata": {},
     "output_type": "execute_result"
    }
   ],
   "source": [
    "words"
   ]
  },
  {
   "cell_type": "code",
   "execution_count": 33,
   "id": "d2ca1a11",
   "metadata": {},
   "outputs": [],
   "source": [
    "# We can use the shuffle function to shuffle a list. We will need to use the import keyword"
   ]
  },
  {
   "cell_type": "code",
   "execution_count": 34,
   "id": "00730f41",
   "metadata": {},
   "outputs": [],
   "source": [
    "from random import shuffle"
   ]
  },
  {
   "cell_type": "code",
   "execution_count": 44,
   "id": "3ef0aef6",
   "metadata": {},
   "outputs": [],
   "source": [
    "shuffle(words)"
   ]
  },
  {
   "cell_type": "code",
   "execution_count": 45,
   "id": "67cccd3f",
   "metadata": {},
   "outputs": [
    {
     "data": {
      "text/plain": [
       "['Everybody', 'for', 'Python']"
      ]
     },
     "execution_count": 45,
     "metadata": {},
     "output_type": "execute_result"
    }
   ],
   "source": [
    "words"
   ]
  },
  {
   "cell_type": "code",
   "execution_count": null,
   "id": "ff437851",
   "metadata": {},
   "outputs": [],
   "source": []
  }
 ],
 "metadata": {
  "kernelspec": {
   "display_name": "Python 3 (ipykernel)",
   "language": "python",
   "name": "python3"
  },
  "language_info": {
   "codemirror_mode": {
    "name": "ipython",
    "version": 3
   },
   "file_extension": ".py",
   "mimetype": "text/x-python",
   "name": "python",
   "nbconvert_exporter": "python",
   "pygments_lexer": "ipython3",
   "version": "3.9.12"
  }
 },
 "nbformat": 4,
 "nbformat_minor": 5
}
