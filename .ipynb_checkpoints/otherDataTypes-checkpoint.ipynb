{
 "cells": [
  {
   "cell_type": "markdown",
   "id": "f788ebe9",
   "metadata": {},
   "source": [
    "## Dictionaries"
   ]
  },
  {
   "cell_type": "code",
   "execution_count": null,
   "id": "7f4f5504",
   "metadata": {},
   "outputs": [],
   "source": [
    "# Dictionary is another name for object but unique to python."
   ]
  },
  {
   "cell_type": "code",
   "execution_count": 2,
   "id": "e5befdf5",
   "metadata": {},
   "outputs": [],
   "source": [
    "course = {\n",
    "    'name': 'Python for Everybody',\n",
    "    'students': 100_000,\n",
    "    'length': 15.25,\n",
    "    'lessons': [\n",
    "        'Strings', 'Lists', 'Dictiionaries', 'If Statements'\n",
    "    ]\n",
    "}"
   ]
  },
  {
   "cell_type": "code",
   "execution_count": 3,
   "id": "ff924ffa",
   "metadata": {},
   "outputs": [
    {
     "data": {
      "text/plain": [
       "{'name': 'Python for Everybody',\n",
       " 'students': 100000,\n",
       " 'length': 15.25,\n",
       " 'lessons': ['Strings', 'Lists', 'Dictiionaries', 'If Statements']}"
      ]
     },
     "execution_count": 3,
     "metadata": {},
     "output_type": "execute_result"
    }
   ],
   "source": [
    "course"
   ]
  },
  {
   "cell_type": "code",
   "execution_count": 4,
   "id": "a1f1fe81",
   "metadata": {},
   "outputs": [
    {
     "data": {
      "text/plain": [
       "dict"
      ]
     },
     "execution_count": 4,
     "metadata": {},
     "output_type": "execute_result"
    }
   ],
   "source": [
    "type(course)"
   ]
  },
  {
   "cell_type": "code",
   "execution_count": 5,
   "id": "64518fce",
   "metadata": {},
   "outputs": [
    {
     "data": {
      "text/plain": [
       "list"
      ]
     },
     "execution_count": 5,
     "metadata": {},
     "output_type": "execute_result"
    }
   ],
   "source": [
    "type(course['lessons'])"
   ]
  },
  {
   "cell_type": "code",
   "execution_count": 6,
   "id": "1fec850d",
   "metadata": {},
   "outputs": [
    {
     "data": {
      "text/plain": [
       "int"
      ]
     },
     "execution_count": 6,
     "metadata": {},
     "output_type": "execute_result"
    }
   ],
   "source": [
    "type(course['students'])"
   ]
  },
  {
   "cell_type": "code",
   "execution_count": 7,
   "id": "0fb6b649",
   "metadata": {},
   "outputs": [],
   "source": [
    "course['subject'] = 'programming'"
   ]
  },
  {
   "cell_type": "code",
   "execution_count": 8,
   "id": "4a5426e9",
   "metadata": {},
   "outputs": [
    {
     "data": {
      "text/plain": [
       "{'name': 'Python for Everybody',\n",
       " 'students': 100000,\n",
       " 'length': 15.25,\n",
       " 'lessons': ['Strings', 'Lists', 'Dictiionaries', 'If Statements'],\n",
       " 'subject': 'programming'}"
      ]
     },
     "execution_count": 8,
     "metadata": {},
     "output_type": "execute_result"
    }
   ],
   "source": [
    "course"
   ]
  },
  {
   "cell_type": "code",
   "execution_count": 9,
   "id": "9457f1cd",
   "metadata": {},
   "outputs": [],
   "source": [
    "del course['length']"
   ]
  },
  {
   "cell_type": "code",
   "execution_count": 10,
   "id": "0ecf89e0",
   "metadata": {},
   "outputs": [
    {
     "data": {
      "text/plain": [
       "{'name': 'Python for Everybody',\n",
       " 'students': 100000,\n",
       " 'lessons': ['Strings', 'Lists', 'Dictiionaries', 'If Statements'],\n",
       " 'subject': 'programming'}"
      ]
     },
     "execution_count": 10,
     "metadata": {},
     "output_type": "execute_result"
    }
   ],
   "source": [
    "course"
   ]
  },
  {
   "cell_type": "code",
   "execution_count": 11,
   "id": "86f84687",
   "metadata": {},
   "outputs": [],
   "source": [
    "key = course.keys()"
   ]
  },
  {
   "cell_type": "code",
   "execution_count": 12,
   "id": "80358fde",
   "metadata": {},
   "outputs": [
    {
     "data": {
      "text/plain": [
       "dict_keys(['name', 'students', 'lessons', 'subject'])"
      ]
     },
     "execution_count": 12,
     "metadata": {},
     "output_type": "execute_result"
    }
   ],
   "source": [
    "key"
   ]
  },
  {
   "cell_type": "code",
   "execution_count": 13,
   "id": "3c26413a",
   "metadata": {},
   "outputs": [],
   "source": [
    "value = course.values()"
   ]
  },
  {
   "cell_type": "code",
   "execution_count": 14,
   "id": "d2d7ba92",
   "metadata": {},
   "outputs": [
    {
     "data": {
      "text/plain": [
       "dict_values(['Python for Everybody', 100000, ['Strings', 'Lists', 'Dictiionaries', 'If Statements'], 'programming'])"
      ]
     },
     "execution_count": 14,
     "metadata": {},
     "output_type": "execute_result"
    }
   ],
   "source": [
    "value"
   ]
  },
  {
   "cell_type": "code",
   "execution_count": 20,
   "id": "aa545fc7",
   "metadata": {
    "collapsed": true
   },
   "outputs": [
    {
     "name": "stdout",
     "output_type": "stream",
     "text": [
      "Enter name students lessons or subjectlessons\n"
     ]
    },
    {
     "data": {
      "text/plain": [
       "\"['Strings', 'Lists', 'Dictiionaries', 'If Statements']\""
      ]
     },
     "execution_count": 20,
     "metadata": {},
     "output_type": "execute_result"
    }
   ],
   "source": [
    "what_info_do_yu_want = input('Enter name students lessons or subject')\n",
    "data = course.get(what_info_do_yu_want)\n",
    "f'{data}'"
   ]
  },
  {
   "cell_type": "code",
   "execution_count": 23,
   "id": "d683a69a",
   "metadata": {
    "collapsed": true
   },
   "outputs": [
    {
     "name": "stdout",
     "output_type": "stream",
     "text": [
      "Enter name students lessons or subjectschool\n"
     ]
    },
    {
     "data": {
      "text/plain": [
       "\"This wasn't found!!!\""
      ]
     },
     "execution_count": 23,
     "metadata": {},
     "output_type": "execute_result"
    }
   ],
   "source": [
    "what_detail_do_yu_want = input('Enter name students lessons or subject')\n",
    "detail = course.get(what_detail_do_yu_want, \"This wasn't found!!!\")\n",
    "f'{detail}'"
   ]
  },
  {
   "cell_type": "code",
   "execution_count": 24,
   "id": "122934e5",
   "metadata": {},
   "outputs": [
    {
     "name": "stdout",
     "output_type": "stream",
     "text": [
      "name => Python for Everybody\n",
      "students => 100000\n",
      "lessons => ['Strings', 'Lists', 'Dictiionaries', 'If Statements']\n",
      "subject => programming\n"
     ]
    }
   ],
   "source": [
    "for key, value in course.items():\n",
    "    print(key, '=>', value)"
   ]
  },
  {
   "cell_type": "markdown",
   "id": "651738b1",
   "metadata": {},
   "source": [
    "### Sets"
   ]
  },
  {
   "cell_type": "code",
   "execution_count": 25,
   "id": "0c498313",
   "metadata": {},
   "outputs": [],
   "source": [
    "colors = {\n",
    "    'red','green','blue','orange','yellow'\n",
    "}"
   ]
  },
  {
   "cell_type": "code",
   "execution_count": 26,
   "id": "c68ad355",
   "metadata": {},
   "outputs": [
    {
     "data": {
      "text/plain": [
       "{'blue', 'green', 'orange', 'red', 'yellow'}"
      ]
     },
     "execution_count": 26,
     "metadata": {},
     "output_type": "execute_result"
    }
   ],
   "source": [
    "colors"
   ]
  },
  {
   "cell_type": "code",
   "execution_count": 27,
   "id": "a5fa57cd",
   "metadata": {},
   "outputs": [],
   "source": [
    "colors.add('violet')"
   ]
  },
  {
   "cell_type": "code",
   "execution_count": 28,
   "id": "e5e009e0",
   "metadata": {},
   "outputs": [
    {
     "data": {
      "text/plain": [
       "{'blue', 'green', 'orange', 'red', 'violet', 'yellow'}"
      ]
     },
     "execution_count": 28,
     "metadata": {},
     "output_type": "execute_result"
    }
   ],
   "source": [
    "colors"
   ]
  },
  {
   "cell_type": "code",
   "execution_count": 29,
   "id": "252b28d9",
   "metadata": {},
   "outputs": [],
   "source": [
    "colors.remove('orange')"
   ]
  },
  {
   "cell_type": "code",
   "execution_count": 30,
   "id": "5a67f01c",
   "metadata": {},
   "outputs": [
    {
     "data": {
      "text/plain": [
       "{'blue', 'green', 'red', 'violet', 'yellow'}"
      ]
     },
     "execution_count": 30,
     "metadata": {},
     "output_type": "execute_result"
    }
   ],
   "source": [
    "colors"
   ]
  },
  {
   "cell_type": "code",
   "execution_count": 31,
   "id": "48014547",
   "metadata": {},
   "outputs": [
    {
     "data": {
      "text/plain": [
       "set"
      ]
     },
     "execution_count": 31,
     "metadata": {},
     "output_type": "execute_result"
    }
   ],
   "source": [
    "type(colors)"
   ]
  },
  {
   "cell_type": "code",
   "execution_count": 32,
   "id": "744cb83e",
   "metadata": {},
   "outputs": [],
   "source": [
    "# Let's do a bit of type casting from a list to a set\n",
    "\n",
    "lst = ['Red', 'Red', 'Green', 'Green', 'Blue']\n",
    "st = set(lst)"
   ]
  },
  {
   "cell_type": "code",
   "execution_count": 33,
   "id": "01843709",
   "metadata": {},
   "outputs": [
    {
     "data": {
      "text/plain": [
       "{'Blue', 'Green', 'Red'}"
      ]
     },
     "execution_count": 33,
     "metadata": {},
     "output_type": "execute_result"
    }
   ],
   "source": [
    "st"
   ]
  },
  {
   "cell_type": "code",
   "execution_count": 34,
   "id": "f7dfddc8",
   "metadata": {},
   "outputs": [
    {
     "data": {
      "text/plain": [
       "set"
      ]
     },
     "execution_count": 34,
     "metadata": {},
     "output_type": "execute_result"
    }
   ],
   "source": [
    "type(st)"
   ]
  },
  {
   "cell_type": "code",
   "execution_count": 35,
   "id": "4c0d0601",
   "metadata": {},
   "outputs": [
    {
     "name": "stdout",
     "output_type": "stream",
     "text": [
      "red\n",
      "green\n",
      "violet\n",
      "yellow\n",
      "blue\n"
     ]
    }
   ],
   "source": [
    "for color in colors:\n",
    "    print(color)"
   ]
  },
  {
   "cell_type": "markdown",
   "id": "7523ad23",
   "metadata": {},
   "source": [
    "### NoneType"
   ]
  },
  {
   "cell_type": "code",
   "execution_count": 36,
   "id": "51c8a468",
   "metadata": {},
   "outputs": [],
   "source": [
    "sports = None"
   ]
  },
  {
   "cell_type": "code",
   "execution_count": 37,
   "id": "9bbd45ee",
   "metadata": {},
   "outputs": [
    {
     "data": {
      "text/plain": [
       "NoneType"
      ]
     },
     "execution_count": 37,
     "metadata": {},
     "output_type": "execute_result"
    }
   ],
   "source": [
    "type(sports)"
   ]
  },
  {
   "cell_type": "code",
   "execution_count": 38,
   "id": "bee5aad5",
   "metadata": {},
   "outputs": [
    {
     "data": {
      "text/plain": [
       "NoneType"
      ]
     },
     "execution_count": 38,
     "metadata": {},
     "output_type": "execute_result"
    }
   ],
   "source": [
    "type(None)"
   ]
  },
  {
   "cell_type": "code",
   "execution_count": 39,
   "id": "0c846be9",
   "metadata": {},
   "outputs": [],
   "source": [
    "d = {'thing': 'thing2'}"
   ]
  },
  {
   "cell_type": "code",
   "execution_count": 45,
   "id": "daddfc6f",
   "metadata": {},
   "outputs": [
    {
     "name": "stdout",
     "output_type": "stream",
     "text": [
      "thing exist\n",
      "did not find something else\n"
     ]
    }
   ],
   "source": [
    "if bool(d.get('thing')) is True:\n",
    "    print('thing exist')\n",
    "if d.get('something_else') is None:\n",
    "    print('did not find something else')"
   ]
  }
 ],
 "metadata": {
  "kernelspec": {
   "display_name": "Python 3 (ipykernel)",
   "language": "python",
   "name": "python3"
  },
  "language_info": {
   "codemirror_mode": {
    "name": "ipython",
    "version": 3
   },
   "file_extension": ".py",
   "mimetype": "text/x-python",
   "name": "python",
   "nbconvert_exporter": "python",
   "pygments_lexer": "ipython3",
   "version": "3.9.12"
  }
 },
 "nbformat": 4,
 "nbformat_minor": 5
}
