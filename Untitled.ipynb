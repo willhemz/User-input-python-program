{
 "cells": [
  {
   "cell_type": "markdown",
   "id": "a5bd69d5",
   "metadata": {},
   "source": [
    "## Comparison Operators"
   ]
  },
  {
   "cell_type": "code",
   "execution_count": 1,
   "id": "988505ea",
   "metadata": {},
   "outputs": [],
   "source": [
    "age = 30"
   ]
  },
  {
   "cell_type": "code",
   "execution_count": 3,
   "id": "f66e466e",
   "metadata": {},
   "outputs": [
    {
     "name": "stdout",
     "output_type": "stream",
     "text": [
      "You can consume alcohol in the USA\n"
     ]
    }
   ],
   "source": [
    "if age >= 18:\n",
    "    print('You can consume alcohol in the USA')"
   ]
  },
  {
   "cell_type": "code",
   "execution_count": 8,
   "id": "ef352fdf",
   "metadata": {},
   "outputs": [
    {
     "name": "stdout",
     "output_type": "stream",
     "text": [
      "Write a number11\n",
      "You can't vote\n"
     ]
    }
   ],
   "source": [
    "figure = int(input('Write a number'))\n",
    "if figure >= 18:\n",
    "    print(f'You are eligible to vote in USA as you meet the age requirement of {figure}')\n",
    "else:\n",
    "    print('You can\\'t vote')"
   ]
  },
  {
   "cell_type": "code",
   "execution_count": 16,
   "id": "73af0645",
   "metadata": {},
   "outputs": [
    {
     "name": "stdout",
     "output_type": "stream",
     "text": [
      "You lie\n"
     ]
    }
   ],
   "source": [
    "if False:\n",
    "    print('Age is', figure)\n",
    "if not False:\n",
    "    print('You lie')"
   ]
  },
  {
   "cell_type": "code",
   "execution_count": 17,
   "id": "9c72dd7f",
   "metadata": {},
   "outputs": [],
   "source": [
    "name1 = 'Kalob'\n",
    "name2 = 'kalob'"
   ]
  },
  {
   "cell_type": "code",
   "execution_count": 20,
   "id": "ed0982d4",
   "metadata": {},
   "outputs": [
    {
     "name": "stdout",
     "output_type": "stream",
     "text": [
      "Wheew...\n"
     ]
    }
   ],
   "source": [
    "if name1 is name2:\n",
    "    print('cool')\n",
    "if name1 is not name2:\n",
    "    print('Wheew...')"
   ]
  },
  {
   "cell_type": "code",
   "execution_count": null,
   "id": "f870ec8e",
   "metadata": {},
   "outputs": [],
   "source": []
  }
 ],
 "metadata": {
  "kernelspec": {
   "display_name": "Python 3 (ipykernel)",
   "language": "python",
   "name": "python3"
  },
  "language_info": {
   "codemirror_mode": {
    "name": "ipython",
    "version": 3
   },
   "file_extension": ".py",
   "mimetype": "text/x-python",
   "name": "python",
   "nbconvert_exporter": "python",
   "pygments_lexer": "ipython3",
   "version": "3.9.12"
  }
 },
 "nbformat": 4,
 "nbformat_minor": 5
}
