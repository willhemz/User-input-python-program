{
 "cells": [
  {
   "cell_type": "markdown",
   "id": "66b0919a",
   "metadata": {},
   "source": [
    "## Print Formatting"
   ]
  },
  {
   "cell_type": "code",
   "execution_count": 6,
   "id": "120e6e5a",
   "metadata": {},
   "outputs": [],
   "source": [
    "course = 'Python for Everybody'"
   ]
  },
  {
   "cell_type": "code",
   "execution_count": 8,
   "id": "1d1147db",
   "metadata": {},
   "outputs": [
    {
     "name": "stdout",
     "output_type": "stream",
     "text": [
      "The course you are in is Python for Everybody\n"
     ]
    }
   ],
   "source": [
    "print('The course you are in is {}'.format(course))"
   ]
  },
  {
   "cell_type": "code",
   "execution_count": 9,
   "id": "1872077e",
   "metadata": {},
   "outputs": [
    {
     "name": "stdout",
     "output_type": "stream",
     "text": [
      "Welcome David, you are sitting in Python for Everybody\n"
     ]
    }
   ],
   "source": [
    "print('Welcome {}, you are sitting in {}'.format('David',course))"
   ]
  },
  {
   "cell_type": "code",
   "execution_count": 11,
   "id": "e349c3ec",
   "metadata": {},
   "outputs": [
    {
     "data": {
      "text/plain": [
       "'Hello Henry, welcome to Python for Everybody'"
      ]
     },
     "execution_count": 11,
     "metadata": {},
     "output_type": "execute_result"
    }
   ],
   "source": [
    "name = 'Henry'\n",
    "f'Hello {name}, welcome to {course}'"
   ]
  },
  {
   "cell_type": "code",
   "execution_count": 12,
   "id": "87155ad1",
   "metadata": {},
   "outputs": [
    {
     "data": {
      "text/plain": [
       "'Hello HENRY, welcome to pYTHON FOR eVERYBODY'"
      ]
     },
     "execution_count": 12,
     "metadata": {},
     "output_type": "execute_result"
    }
   ],
   "source": [
    "f'Hello {name.upper()}, welcome to {course.swapcase()}'"
   ]
  },
  {
   "cell_type": "code",
   "execution_count": 13,
   "id": "101e70be",
   "metadata": {},
   "outputs": [
    {
     "name": "stdout",
     "output_type": "stream",
     "text": [
      "What is your name?David\n",
      "Hello DAVID, welcome to Python\n"
     ]
    }
   ],
   "source": [
    "userName = input('What is your name?')\n",
    "print(f'Hello {userName.upper()}, welcome to Python')"
   ]
  },
  {
   "cell_type": "code",
   "execution_count": null,
   "id": "6b3caf67",
   "metadata": {},
   "outputs": [],
   "source": []
  }
 ],
 "metadata": {
  "kernelspec": {
   "display_name": "Python 3 (ipykernel)",
   "language": "python",
   "name": "python3"
  },
  "language_info": {
   "codemirror_mode": {
    "name": "ipython",
    "version": 3
   },
   "file_extension": ".py",
   "mimetype": "text/x-python",
   "name": "python",
   "nbconvert_exporter": "python",
   "pygments_lexer": "ipython3",
   "version": "3.9.12"
  }
 },
 "nbformat": 4,
 "nbformat_minor": 5
}
