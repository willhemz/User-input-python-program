{
 "cells": [
  {
   "cell_type": "markdown",
   "id": "a23bdf85",
   "metadata": {},
   "source": [
    "### Files"
   ]
  },
  {
   "cell_type": "code",
   "execution_count": 1,
   "id": "788e6de2",
   "metadata": {},
   "outputs": [],
   "source": [
    "with open('someFile.txt', 'w') as f:\n",
    "    f.write('Hello World! This is our first programmatically created file')\n",
    "    f.close()"
   ]
  },
  {
   "cell_type": "code",
   "execution_count": 6,
   "id": "18621913",
   "metadata": {},
   "outputs": [
    {
     "name": "stdout",
     "output_type": "stream",
     "text": [
      "<class '_io.TextIOWrapper'>\n"
     ]
    }
   ],
   "source": [
    "with open('someFile.txt', 'r') as f:\n",
    "    print(type(f))\n",
    "    content = f.read()\n",
    "    f.close()"
   ]
  },
  {
   "cell_type": "code",
   "execution_count": 7,
   "id": "19d68774",
   "metadata": {},
   "outputs": [
    {
     "data": {
      "text/plain": [
       "'Hello World! This is our first programmatically created file\\nEdited version from Notebook'"
      ]
     },
     "execution_count": 7,
     "metadata": {},
     "output_type": "execute_result"
    }
   ],
   "source": [
    "content"
   ]
  },
  {
   "cell_type": "code",
   "execution_count": 9,
   "id": "cfa8ada3",
   "metadata": {},
   "outputs": [],
   "source": [
    "with open('someFile.txt', 'w') as f:\n",
    "    f.write('New file created')\n",
    "    f.close()"
   ]
  },
  {
   "cell_type": "code",
   "execution_count": 12,
   "id": "4422b264",
   "metadata": {},
   "outputs": [],
   "source": [
    "with open('someFile.txt', 'a') as f:\n",
    "    f.write('\\nThis is line 4 from David')\n",
    "    f.close()"
   ]
  },
  {
   "cell_type": "code",
   "execution_count": null,
   "id": "dab58774",
   "metadata": {},
   "outputs": [],
   "source": [
    "# We can keep changing d data from the code in ln10 and it will keep appending."
   ]
  },
  {
   "cell_type": "code",
   "execution_count": 13,
   "id": "2ff932f2",
   "metadata": {},
   "outputs": [
    {
     "name": "stdout",
     "output_type": "stream",
     "text": [
      "f.name -> someFile.txt\n"
     ]
    }
   ],
   "source": [
    "with open('someFile.txt', 'r') as f:\n",
    "    print('f.name ->', f.name)\n",
    "    lines = f.readlines()\n",
    "    f.close()"
   ]
  },
  {
   "cell_type": "code",
   "execution_count": 14,
   "id": "0936103a",
   "metadata": {},
   "outputs": [
    {
     "data": {
      "text/plain": [
       "['New file created\\n',\n",
       " 'This is line 2\\n',\n",
       " 'This is line 3\\n',\n",
       " 'This is line 4 from David']"
      ]
     },
     "execution_count": 14,
     "metadata": {},
     "output_type": "execute_result"
    }
   ],
   "source": [
    "lines"
   ]
  },
  {
   "cell_type": "code",
   "execution_count": 15,
   "id": "d77216cd",
   "metadata": {},
   "outputs": [
    {
     "data": {
      "text/plain": [
       "list"
      ]
     },
     "execution_count": 15,
     "metadata": {},
     "output_type": "execute_result"
    }
   ],
   "source": [
    "type(lines)"
   ]
  },
  {
   "cell_type": "code",
   "execution_count": 16,
   "id": "df9d1fe4",
   "metadata": {},
   "outputs": [
    {
     "name": "stdout",
     "output_type": "stream",
     "text": [
      "New file created\n",
      "\n",
      "This is line 2\n",
      "\n",
      "This is line 3\n",
      "\n",
      "This is line 4 from David\n"
     ]
    }
   ],
   "source": [
    "for line in lines:\n",
    "    print(line)"
   ]
  },
  {
   "cell_type": "code",
   "execution_count": null,
   "id": "5f63ed6c",
   "metadata": {},
   "outputs": [],
   "source": []
  }
 ],
 "metadata": {
  "kernelspec": {
   "display_name": "Python 3 (ipykernel)",
   "language": "python",
   "name": "python3"
  },
  "language_info": {
   "codemirror_mode": {
    "name": "ipython",
    "version": 3
   },
   "file_extension": ".py",
   "mimetype": "text/x-python",
   "name": "python",
   "nbconvert_exporter": "python",
   "pygments_lexer": "ipython3",
   "version": "3.9.12"
  }
 },
 "nbformat": 4,
 "nbformat_minor": 5
}
