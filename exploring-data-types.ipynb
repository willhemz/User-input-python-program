{
 "cells": [
  {
   "cell_type": "markdown",
   "id": "0456131c",
   "metadata": {},
   "source": [
    "# Exploring data types"
   ]
  },
  {
   "cell_type": "code",
   "execution_count": 1,
   "id": "8b8bba20",
   "metadata": {
    "collapsed": true
   },
   "outputs": [
    {
     "name": "stdout",
     "output_type": "stream",
     "text": [
      "J\n",
      "a\n",
      "v\n",
      "a\n",
      "S\n",
      "c\n",
      "r\n",
      "i\n",
      "p\n",
      "t\n",
      " \n",
      "f\n",
      "o\n",
      "r\n",
      " \n",
      "B\n",
      "e\n",
      "g\n",
      "i\n",
      "n\n",
      "n\n",
      "e\n",
      "r\n",
      "s\n"
     ]
    }
   ],
   "source": [
    "#strings\n",
    "\n",
    "course = 'JavaScript for Beginners'\n",
    "\n",
    "for a in course:\n",
    "    print(a)"
   ]
  },
  {
   "cell_type": "code",
   "execution_count": 9,
   "id": "f336a04c",
   "metadata": {},
   "outputs": [],
   "source": [
    "# Lists\n",
    "# Lists, Tuple and Set\n",
    "\n",
    "groceries = {'Milk','Egg','Bread', 'Bread', 'Milk', 42, True}"
   ]
  },
  {
   "cell_type": "code",
   "execution_count": 10,
   "id": "e8337b6e",
   "metadata": {
    "collapsed": true
   },
   "outputs": [
    {
     "data": {
      "text/plain": [
       "{42, 'Bread', 'Egg', 'Milk', True}"
      ]
     },
     "execution_count": 10,
     "metadata": {},
     "output_type": "execute_result"
    }
   ],
   "source": [
    "groceries"
   ]
  },
  {
   "cell_type": "code",
   "execution_count": 11,
   "id": "ca2de8fb",
   "metadata": {
    "collapsed": true
   },
   "outputs": [
    {
     "name": "stdout",
     "output_type": "stream",
     "text": [
      "True\n",
      "Bread\n",
      "42\n",
      "Milk\n",
      "Egg\n"
     ]
    }
   ],
   "source": [
    "for item in groceries:\n",
    "    print(item)"
   ]
  },
  {
   "cell_type": "markdown",
   "id": "87ef33e7",
   "metadata": {},
   "source": [
    "# INDEXING & SLICING"
   ]
  },
  {
   "cell_type": "code",
   "execution_count": 12,
   "id": "91305c1c",
   "metadata": {},
   "outputs": [
    {
     "data": {
      "text/plain": [
       "'JavaScript for Beginners'"
      ]
     },
     "execution_count": 12,
     "metadata": {},
     "output_type": "execute_result"
    }
   ],
   "source": [
    "course"
   ]
  },
  {
   "cell_type": "code",
   "execution_count": 15,
   "id": "89f5791c",
   "metadata": {},
   "outputs": [
    {
     "data": {
      "text/plain": [
       "'n'"
      ]
     },
     "execution_count": 15,
     "metadata": {},
     "output_type": "execute_result"
    }
   ],
   "source": [
    "course[20]"
   ]
  },
  {
   "cell_type": "code",
   "execution_count": 16,
   "id": "8551fb54",
   "metadata": {},
   "outputs": [
    {
     "data": {
      "text/plain": [
       "'c'"
      ]
     },
     "execution_count": 16,
     "metadata": {},
     "output_type": "execute_result"
    }
   ],
   "source": [
    "course[5]"
   ]
  },
  {
   "cell_type": "code",
   "execution_count": 17,
   "id": "3dd0106b",
   "metadata": {},
   "outputs": [],
   "source": [
    "lst = ['car','truck','airplane','blimp']"
   ]
  },
  {
   "cell_type": "code",
   "execution_count": 18,
   "id": "e86a9ebf",
   "metadata": {},
   "outputs": [
    {
     "data": {
      "text/plain": [
       "'car'"
      ]
     },
     "execution_count": 18,
     "metadata": {},
     "output_type": "execute_result"
    }
   ],
   "source": [
    "lst[0]"
   ]
  },
  {
   "cell_type": "code",
   "execution_count": 19,
   "id": "a5aabbfc",
   "metadata": {},
   "outputs": [],
   "source": [
    "# Another part of indexing is slicing"
   ]
  },
  {
   "cell_type": "code",
   "execution_count": 20,
   "id": "157405d3",
   "metadata": {},
   "outputs": [
    {
     "data": {
      "text/plain": [
       "'JavaScript for Beginners'"
      ]
     },
     "execution_count": 20,
     "metadata": {},
     "output_type": "execute_result"
    }
   ],
   "source": [
    "# Slicing for strings\n",
    "\n",
    "course"
   ]
  },
  {
   "cell_type": "code",
   "execution_count": 21,
   "id": "045a183d",
   "metadata": {},
   "outputs": [
    {
     "data": {
      "text/plain": [
       "'Java'"
      ]
     },
     "execution_count": 21,
     "metadata": {},
     "output_type": "execute_result"
    }
   ],
   "source": [
    "course[0:4]"
   ]
  },
  {
   "cell_type": "code",
   "execution_count": 22,
   "id": "09a0b799",
   "metadata": {},
   "outputs": [
    {
     "data": {
      "text/plain": [
       "'Script'"
      ]
     },
     "execution_count": 22,
     "metadata": {},
     "output_type": "execute_result"
    }
   ],
   "source": [
    "course[4:10]"
   ]
  },
  {
   "cell_type": "code",
   "execution_count": 23,
   "id": "40536e8c",
   "metadata": {},
   "outputs": [
    {
     "data": {
      "text/plain": [
       "['car', 'truck', 'airplane', 'blimp']"
      ]
     },
     "execution_count": 23,
     "metadata": {},
     "output_type": "execute_result"
    }
   ],
   "source": [
    "lst"
   ]
  },
  {
   "cell_type": "code",
   "execution_count": 24,
   "id": "df24cd0e",
   "metadata": {},
   "outputs": [
    {
     "data": {
      "text/plain": [
       "['truck', 'airplane']"
      ]
     },
     "execution_count": 24,
     "metadata": {},
     "output_type": "execute_result"
    }
   ],
   "source": [
    "lst[1:3]"
   ]
  },
  {
   "cell_type": "code",
   "execution_count": 25,
   "id": "766f22af",
   "metadata": {},
   "outputs": [],
   "source": [
    "language = course[0:10]"
   ]
  },
  {
   "cell_type": "code",
   "execution_count": 26,
   "id": "596136ed",
   "metadata": {},
   "outputs": [
    {
     "data": {
      "text/plain": [
       "'JavaScript'"
      ]
     },
     "execution_count": 26,
     "metadata": {},
     "output_type": "execute_result"
    }
   ],
   "source": [
    "language"
   ]
  },
  {
   "cell_type": "code",
   "execution_count": null,
   "id": "19740b53",
   "metadata": {},
   "outputs": [],
   "source": []
  }
 ],
 "metadata": {
  "kernelspec": {
   "display_name": "Python 3 (ipykernel)",
   "language": "python",
   "name": "python3"
  },
  "language_info": {
   "codemirror_mode": {
    "name": "ipython",
    "version": 3
   },
   "file_extension": ".py",
   "mimetype": "text/x-python",
   "name": "python",
   "nbconvert_exporter": "python",
   "pygments_lexer": "ipython3",
   "version": "3.9.12"
  }
 },
 "nbformat": 4,
 "nbformat_minor": 5
}
